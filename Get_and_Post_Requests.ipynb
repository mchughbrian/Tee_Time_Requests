{
 "cells": [
  {
   "cell_type": "code",
   "execution_count": 1,
   "metadata": {},
   "outputs": [],
   "source": [
    "import logging\n",
    "import sys\n",
    "import time\n",
    "import random"
   ]
  },
  {
   "cell_type": "code",
   "execution_count": 2,
   "metadata": {},
   "outputs": [],
   "source": [
    "#import settings\n",
    "#import utils\n",
    "import pandas as pd\n",
    "import requests\n",
    "import sys\n",
    "import datetime\n",
    "import pprint\n",
    "from bs4 import BeautifulSoup"
   ]
  },
  {
   "cell_type": "code",
   "execution_count": 3,
   "metadata": {},
   "outputs": [],
   "source": [
    "#Write a function to find the next Saturday\n",
    "def getSaturday():\n",
    "    d=datetime.date.today()\n",
    "    d.day\n",
    "    if d.weekday() == 5:\n",
    "        d += datetime.timedelta(7)\n",
    "        print('next saturday is',d.day)\n",
    "    else:\n",
    "        while d.weekday() != 5:\n",
    "            d += datetime.timedelta(1)\n",
    "    return d"
   ]
  },
  {
   "cell_type": "code",
   "execution_count": 4,
   "metadata": {},
   "outputs": [],
   "source": [
    "#need to exe a week before the tee date\n",
    "def weekbefore(sat_string):\n",
    "    d = datetime.datetime.strptime(sat_string, '%m-%d-%Y')\n",
    "    run_date = d-datetime.timedelta(7)\n",
    "    return run_date"
   ]
  },
  {
   "cell_type": "code",
   "execution_count": 5,
   "metadata": {},
   "outputs": [],
   "source": [
    "#find the index of the teetime in the json response. \n",
    "def findTeeIndex(tee_times,my_tee_time):\n",
    "    ind_tee = 0\n",
    "    for x in tee_times:\n",
    "        if x.get('time')== my_tee_time:\n",
    "            return ind_tee\n",
    "        else:\n",
    "            ind_tee = ind_tee+1"
   ]
  },
  {
   "cell_type": "code",
   "execution_count": 7,
   "metadata": {},
   "outputs": [
    {
     "name": "stdout",
     "output_type": "stream",
     "text": [
      "What date would you like to book a time for: (MM-DD-2021)06-22-2021\n",
      "06-22-2021\n"
     ]
    }
   ],
   "source": [
    "#day_saturday = getSaturday()\n",
    "#sat_string = day_saturday.strftime(\"%m-%d-%Y\")\n",
    "#sat_string = '06-10-2021'\n",
    "\n",
    "#For testing purposes input date\n",
    "sat_string = input('What date would you like to book a time for: (MM-DD-2021)')\n",
    "print(sat_string)"
   ]
  },
  {
   "cell_type": "code",
   "execution_count": 8,
   "metadata": {},
   "outputs": [
    {
     "name": "stdout",
     "output_type": "stream",
     "text": [
      "06-15-2021\n"
     ]
    }
   ],
   "source": [
    "run_date = weekbefore(sat_string)\n",
    "run_date = run_date.strftime(\"%m-%d-%Y\")\n",
    "print(run_date)\n",
    "#Tee times come out at 5:30 \n",
    "time_run = '05:30'"
   ]
  },
  {
   "cell_type": "code",
   "execution_count": 9,
   "metadata": {},
   "outputs": [],
   "source": [
    "data = pd.read_csv('info.txt')"
   ]
  },
  {
   "cell_type": "code",
   "execution_count": 10,
   "metadata": {},
   "outputs": [],
   "source": [
    "V_USERNAME = data['Login Info'][0]\n",
    "V_PASSWORD = data['Login Info'][1]\n",
    "V_WEBSITE = data['Login Info'][2]\n",
    "V_COURSE_NAME = data['Login Info'][3]\n",
    "V_COURSE_ID =data['Login Info'][4]\n",
    "OPEN_TEE_TIMES_URL = V_WEBSITE+\"/index.php/api/booking/times\"\n",
    "BOOK_URL = V_WEBSITE+\"/index.php/api/booking/users/reservations\"\n",
    "LOGIN_URL = V_WEBSITE+\"/index.php/api/booking/users/login\"\n",
    "DELETE_URL = V_WEBSITE+\"/index.php/api/booking/users/reservations/\"\n",
    "PENDING_RESERVATION = V_WEBSITE+\"/index.php/api/booking/pending_reservation\"\n",
    "cookies = data['Login Info'][5]"
   ]
  },
  {
   "cell_type": "code",
   "execution_count": 11,
   "metadata": {},
   "outputs": [
    {
     "name": "stdout",
     "output_type": "stream",
     "text": [
      "How many players2\n"
     ]
    },
    {
     "data": {
      "text/plain": [
       "'2'"
      ]
     },
     "execution_count": 11,
     "metadata": {},
     "output_type": "execute_result"
    }
   ],
   "source": [
    "v_players = input('How many players')\n",
    "v_players"
   ]
  },
  {
   "cell_type": "code",
   "execution_count": 12,
   "metadata": {},
   "outputs": [],
   "source": [
    "#Parameters\n",
    "v_time = \"morning\"\n",
    "v_holes = \"18\"\n",
    "#v_players = \"4\"\n",
    "v_booking_class = \"false\"\n",
    "v_schedule_id = \"6654\"\n",
    "v_specials_only = \"0\"\n",
    "v_api_key = \"no_limits\"\n",
    "v_date = sat_string\n",
    "v_course_id = \"21017\"\n",
    "v_schedule_ids={0:'0',1:'6463',2:'6654'}"
   ]
  },
  {
   "cell_type": "code",
   "execution_count": 13,
   "metadata": {},
   "outputs": [],
   "source": [
    "LOGIN_PARAMS = {'api_key':v_api_key,'booking_class':v_booking_class,\n",
    "               'course_id':v_course_id,'username':V_USERNAME,'password':V_PASSWORD}\n"
   ]
  },
  {
   "cell_type": "code",
   "execution_count": 14,
   "metadata": {},
   "outputs": [
    {
     "name": "stdout",
     "output_type": "stream",
     "text": [
      "Logged in!\n"
     ]
    }
   ],
   "source": [
    "response = requests.post(LOGIN_URL,data=LOGIN_PARAMS,cookies=cookies)\n",
    "is_okay = response.status_code == requests.codes.ok\n",
    "if is_okay:\n",
    "    print(\"Logged in!\")\n",
    "else:\n",
    "    response.raise_for_status()"
   ]
  },
  {
   "cell_type": "code",
   "execution_count": 15,
   "metadata": {},
   "outputs": [],
   "source": [
    "#lets let things settle so its not so obvious we are a program \n",
    "#lets do different times so that we are not same exact time on the dot each week\n",
    "x_rand = (random.random())\n",
    "y_rand = (random.random())\n",
    "time.sleep(x_rand)\n",
    "time.sleep(y_rand)"
   ]
  },
  {
   "cell_type": "code",
   "execution_count": 16,
   "metadata": {},
   "outputs": [],
   "source": [
    "payload = {\"time\":v_time, \"date\":v_date, \"holes\":v_holes, \"players\": v_players,\n",
    "               \"booking_class\": v_booking_class, \"schedule_id\":v_schedule_id,\n",
    "               \"specials_only\": v_specials_only, \"api_key\": v_api_key,\"schedule_ids\":v_schedule_ids}\n",
    "\n"
   ]
  },
  {
   "cell_type": "code",
   "execution_count": 17,
   "metadata": {},
   "outputs": [
    {
     "name": "stdout",
     "output_type": "stream",
     "text": [
      "Grabbed Tee Times!\n"
     ]
    }
   ],
   "source": [
    "resp = requests.get(OPEN_TEE_TIMES_URL, params=payload,cookies=cookies)\n",
    "is_okay = resp.status_code == requests.codes.ok\n",
    "if is_okay:\n",
    "    print(\"Grabbed Tee Times!\")\n",
    "else:\n",
    "    resp.raise_for_status()\n",
    "open_tee_times = resp.json()"
   ]
  },
  {
   "cell_type": "code",
   "execution_count": 18,
   "metadata": {},
   "outputs": [],
   "source": [
    "#resp.content"
   ]
  },
  {
   "cell_type": "code",
   "execution_count": 19,
   "metadata": {},
   "outputs": [
    {
     "name": "stdout",
     "output_type": "stream",
     "text": [
      "There are 5 morning tee times available for 06-22-2021.\n"
     ]
    }
   ],
   "source": [
    "date_readable = v_date\n",
    "print(\"There are \"+str(len(open_tee_times))+\" morning tee times available for \"+date_readable+\".\")"
   ]
  },
  {
   "cell_type": "code",
   "execution_count": 20,
   "metadata": {},
   "outputs": [],
   "source": [
    "tee_times = open_tee_times"
   ]
  },
  {
   "cell_type": "code",
   "execution_count": 1,
   "metadata": {},
   "outputs": [],
   "source": [
    "#tee_times"
   ]
  },
  {
   "cell_type": "code",
   "execution_count": 22,
   "metadata": {},
   "outputs": [],
   "source": [
    "#FIND MY IDEAL TEE TIMES 8 or 9 AM \n",
    "times = []\n",
    "times_8 = []\n",
    "times_9 = []\n",
    "my_time_available = False\n",
    "best_time = None\n",
    "for teetime in tee_times:\n",
    "    times.append(teetime.get('time'))\n",
    "    if \"08:\" in teetime.get('time'):\n",
    "        times_8.append(teetime.get('time'))\n",
    "    if \"09:\" in teetime.get('time'):\n",
    "        my_time_available = True\n",
    "        best_time = teetime\n",
    "        times_9.append(teetime.get('time'))"
   ]
  },
  {
   "cell_type": "code",
   "execution_count": 23,
   "metadata": {},
   "outputs": [
    {
     "data": {
      "text/plain": [
       "['2021-06-22 08:00', '2021-06-22 08:10']"
      ]
     },
     "execution_count": 23,
     "metadata": {},
     "output_type": "execute_result"
    }
   ],
   "source": [
    "#tee_times\n",
    "times_8"
   ]
  },
  {
   "cell_type": "code",
   "execution_count": 24,
   "metadata": {},
   "outputs": [
    {
     "data": {
      "text/plain": [
       "list"
      ]
     },
     "execution_count": 24,
     "metadata": {},
     "output_type": "execute_result"
    }
   ],
   "source": [
    "type(tee_times)"
   ]
  },
  {
   "cell_type": "code",
   "execution_count": 25,
   "metadata": {},
   "outputs": [],
   "source": [
    "#if 9 or later is available book that one. If not look at 8AM\n",
    "if my_time_available == True: \n",
    "    my_tee_time = best_time\n",
    "else: \n",
    "    my_tee_time = times_8[0]\n",
    "    if times_8 == []:\n",
    "        no_tee_time = True\n",
    "    else:\n",
    "        pass\n"
   ]
  },
  {
   "cell_type": "code",
   "execution_count": 26,
   "metadata": {},
   "outputs": [
    {
     "data": {
      "text/plain": [
       "'2021-06-22 08:00'"
      ]
     },
     "execution_count": 26,
     "metadata": {},
     "output_type": "execute_result"
    }
   ],
   "source": [
    "#my_tee_time ='2021-06-05 08:27' \n",
    "my_tee_time"
   ]
  },
  {
   "cell_type": "code",
   "execution_count": 2,
   "metadata": {},
   "outputs": [],
   "source": [
    "ind_tee = findTeeIndex(tee_times,my_tee_time)\n",
    "#ind_tee"
   ]
  },
  {
   "cell_type": "code",
   "execution_count": 28,
   "metadata": {},
   "outputs": [],
   "source": [
    "x_rand = (random.random())\n",
    "y_rand = (random.random())\n",
    "time.sleep(x_rand)\n",
    "time.sleep(y_rand)"
   ]
  },
  {
   "cell_type": "code",
   "execution_count": 29,
   "metadata": {},
   "outputs": [],
   "source": [
    "#pending reservation parameters\n",
    "p_Time = my_tee_time[:10]+' '+my_tee_time[11:]\n",
    "p_holes = tee_times[ind_tee].get('holes')\n",
    "p_players = v_players\n",
    "p_carts = \"false\"\n",
    "p_schedule_id = str(tee_times[ind_tee].get('schedule_id'))\n",
    "p_teesheet_side_id = str(tee_times[ind_tee].get('teesheet_side_id'))\n",
    "p_course_id = str(tee_times[ind_tee].get('course_id'))\n",
    "p_booking_class_id = str(tee_times[ind_tee].get('booking_class_id'))\n",
    "p_duration = '1'"
   ]
  },
  {
   "cell_type": "code",
   "execution_count": 30,
   "metadata": {},
   "outputs": [],
   "source": [
    "payload_p = {\"time\":p_Time,'holes':p_holes,'players':p_players,'carts':p_carts,'schedule_id':p_schedule_id,\n",
    "             'teesheet_side_id':p_teesheet_side_id,'course_id':p_course_id,'booking_class_id':p_booking_class_id,'duration':p_duration}"
   ]
  },
  {
   "cell_type": "code",
   "execution_count": 3,
   "metadata": {},
   "outputs": [],
   "source": [
    "# To book TEE time need a temp reservation ID, can use json response for input to final request to book. \n",
    "resp_p = requests.get(PENDING_RESERVATION, params=payload_p,cookies=cookies)\n",
    "is_okay = resp_p.status_code == requests.codes.ok\n",
    "if is_okay:\n",
    "    print(\"Temp Reservation\")\n",
    "else:\n",
    "    resp_p.raise_for_status()\n",
    "r_reservation_id = resp_p.get(\"reservation_id\")"
   ]
  },
  {
   "cell_type": "code",
   "execution_count": 56,
   "metadata": {},
   "outputs": [],
   "source": [
    "x_rand = (random.random())\n",
    "y_rand = (random.random())\n",
    "time.sleep(x_rand)\n",
    "time.sleep(y_rand)"
   ]
  },
  {
   "cell_type": "code",
   "execution_count": 4,
   "metadata": {},
   "outputs": [],
   "source": [
    "green_fee = dict1.get('green_fee')\n",
    "total_cost = green_fee * int(p_players)"
   ]
  },
  {
   "cell_type": "code",
   "execution_count": 54,
   "metadata": {},
   "outputs": [],
   "source": [
    "dict1 = tee_times[ind_tee]\n",
    "dict2 = {'players':p_players, 'carts':False, 'promo_code':'', 'promo_discount':0, 'player_list':False, 'duration':1, 'notes':[], 'customer_message':'', 'guest_cart_fee':False, 'total':total_cost, 'purchased':False, 'pay_players':p_players, 'pay_carts':False, 'pay_total':total_cost, 'pay_subtotal':total_cost, 'paid_player_count':0, 'discount_percent':0, 'discount':0, 'details':'', 'pending_reservation_id':r_reservation_id, 'allow_mobile_checkin':0, 'foreup_trade_discount_information':[], 'airQuotesCart':[{\"type\":\"item\",\"description\":\"Green Fee\",\"price\":green_fee,\"quantity\":p_players,\"subtotal\":total_cost}], 'preTaxSubtotal':total_cost, 'estimatedTax':0, 'subtotal':total_cost, 'available_duration':'null', 'increment_amount':'null', 'credit_card_id':str(data['Login Info'][6])}\n",
    "dict1.update(dict2) "
   ]
  },
  {
   "cell_type": "code",
   "execution_count": null,
   "metadata": {},
   "outputs": [],
   "source": [
    "resp_reserve = requests.get(BOOK_URL, params=dict1,cookies=cookies)\n",
    "is_okay = resp_reserve.status_code == requests.codes.ok\n",
    "if is_okay:\n",
    "    print(\"BOOKED TIME\")\n",
    "else:\n",
    "    resp_reserve.raise_for_status()\n"
   ]
  },
  {
   "cell_type": "code",
   "execution_count": 5,
   "metadata": {},
   "outputs": [],
   "source": [
    "del_url = BOOK_URL +'/'+ r_reservation_id\n",
    "resp_del = requests.delete(del_url)\n",
    "is_okay = resp_del.status_code == requests.codes.ok\n",
    "if is_okay:\n",
    "    print(\"Temp Reservation\")\n",
    "else:\n",
    "    resp_del.raise_for_status()"
   ]
  }
 ],
 "metadata": {
  "kernelspec": {
   "display_name": "Python 3",
   "language": "python",
   "name": "python3"
  },
  "language_info": {
   "codemirror_mode": {
    "name": "ipython",
    "version": 3
   },
   "file_extension": ".py",
   "mimetype": "text/x-python",
   "name": "python",
   "nbconvert_exporter": "python",
   "pygments_lexer": "ipython3",
   "version": "3.8.3"
  }
 },
 "nbformat": 4,
 "nbformat_minor": 4
}
